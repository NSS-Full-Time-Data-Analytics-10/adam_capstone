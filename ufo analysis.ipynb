{
 "cells": [
  {
   "cell_type": "code",
   "execution_count": 2,
   "id": "c42e7a75",
   "metadata": {},
   "outputs": [],
   "source": [
    "import pandas as pd\n",
    "import requests\n",
    "from bs4 import BeautifulSoup as BS\n",
    "import numpy as np\n",
    "import re\n",
    "pd.set_option('display.max_colwidth', None)\n",
    "from datetime import datetime\n",
    "import ast"
   ]
  },
  {
   "cell_type": "code",
   "execution_count": 3,
   "id": "c1ca9672",
   "metadata": {},
   "outputs": [],
   "source": [
    "ufo = pd.read_csv('ufo.csv')"
   ]
  },
  {
   "cell_type": "code",
   "execution_count": 4,
   "id": "9e933a39",
   "metadata": {},
   "outputs": [],
   "source": [
    "# convert date to date/time\n",
    "ufo.date = pd.to_datetime(ufo.date)"
   ]
  },
  {
   "cell_type": "markdown",
   "id": "2a043391",
   "metadata": {},
   "source": [
    "<span style='background:purple; font-size:25px'>getting image links from reportlink</span>"
   ]
  },
  {
   "cell_type": "markdown",
   "id": "40aa07f3",
   "metadata": {},
   "source": [
    "# subset data on images = yes"
   ]
  },
  {
   "cell_type": "raw",
   "id": "8e084195",
   "metadata": {},
   "source": [
    "ufo.images = ufo.images.str.lower() # make uniform"
   ]
  },
  {
   "cell_type": "raw",
   "id": "9eeadfe8",
   "metadata": {},
   "source": [
    "# make list out of report to loop through\n",
    "report_links = list(ufo.loc[ufo['images'] == 'yes', 'reportlink']) "
   ]
  },
  {
   "cell_type": "raw",
   "id": "e96a8592",
   "metadata": {},
   "source": [
    "# function to add the first part of the url to all the report links so they will work\n",
    "def report_links(link):\n",
    "    link = 'https://nuforc.org/webreports/' + link\n",
    "    return link"
   ]
  },
  {
   "cell_type": "raw",
   "id": "bc72f267",
   "metadata": {},
   "source": [
    "# function to get the image tags from each report link\n",
    "def get_images(url):\n",
    "    response = requests.get(url)\n",
    "    images = []\n",
    "    soup = BS(response.text, 'html.parser')\n",
    "    img_tags = soup.find_all('img')\n",
    "\n",
    "    for img_tag in img_tags:\n",
    "        img_url = img_tag.get('src')\n",
    "        if img_url.startswith('//'):\n",
    "            img_url = 'http:' + img_url\n",
    "        elif img_url.startswith('/'):\n",
    "            img_url = '/'.join(url.split('/')[:3]) + img_url # making sure http:// is included\n",
    "\n",
    "        images.append(img_url)\n",
    "\n",
    "    return images"
   ]
  },
  {
   "cell_type": "raw",
   "id": "1bf14006",
   "metadata": {
    "scrolled": true
   },
   "source": [
    "# will take some time to run ~ 10 minutes\n",
    "images_list = []\n",
    "i = 0\n",
    "\n",
    "for link in report_links:\n",
    "    # Call the 'get_images_from_webpage' function for each link and append the result to 'images_list'\n",
    "    images_for_link = get_images(link) # call function get_images\n",
    "    images_list.append([link, images_for_link]) # add image link and original report link to list\n",
    "    i+=1\n",
    "    if i % 100 == 0: # only print the loop count every 100 items\n",
    "        print(f'Loop count: {i}')"
   ]
  },
  {
   "cell_type": "code",
   "execution_count": 28,
   "id": "8cfad24c",
   "metadata": {
    "scrolled": true
   },
   "outputs": [],
   "source": [
    "# images_df = pd.DataFrame(images_list, columns=['reportlink', 'image_links']) # make dataframe with columns"
   ]
  },
  {
   "cell_type": "markdown",
   "id": "b0751cd6",
   "metadata": {},
   "source": [
    "<span style='background:purple; font-size:25px'>combine ufo and images_df dataframes</span>"
   ]
  },
  {
   "cell_type": "code",
   "execution_count": 34,
   "id": "fdace7de",
   "metadata": {},
   "outputs": [],
   "source": [
    "# ufo = pd.merge(ufo, images_df, how = 'left', on = 'reportlink')"
   ]
  },
  {
   "cell_type": "markdown",
   "id": "51735691",
   "metadata": {},
   "source": [
    "<span style='background:purple; font-size:25px'>combine ufo and lat, lng data (merge on location)</span>"
   ]
  },
  {
   "cell_type": "code",
   "execution_count": 14,
   "id": "c4411c53",
   "metadata": {},
   "outputs": [],
   "source": [
    "lat_lng = pd.read_csv('ufo_columns_lat_lng.csv', encoding='latin1')"
   ]
  },
  {
   "cell_type": "code",
   "execution_count": 235,
   "id": "28dea28c",
   "metadata": {},
   "outputs": [],
   "source": [
    "# lat_lng = lat_lng.drop('Unnamed: 5', axis=1)"
   ]
  },
  {
   "cell_type": "code",
   "execution_count": 15,
   "id": "9bb7682b",
   "metadata": {
    "scrolled": false
   },
   "outputs": [
    {
     "data": {
      "text/html": [
       "<div>\n",
       "<style scoped>\n",
       "    .dataframe tbody tr th:only-of-type {\n",
       "        vertical-align: middle;\n",
       "    }\n",
       "\n",
       "    .dataframe tbody tr th {\n",
       "        vertical-align: top;\n",
       "    }\n",
       "\n",
       "    .dataframe thead th {\n",
       "        text-align: right;\n",
       "    }\n",
       "</style>\n",
       "<table border=\"1\" class=\"dataframe\">\n",
       "  <thead>\n",
       "    <tr style=\"text-align: right;\">\n",
       "      <th></th>\n",
       "      <th>city</th>\n",
       "      <th>state</th>\n",
       "      <th>country</th>\n",
       "      <th>lat</th>\n",
       "      <th>lng</th>\n",
       "    </tr>\n",
       "  </thead>\n",
       "  <tbody>\n",
       "    <tr>\n",
       "      <th>0</th>\n",
       "      <td>Gilbertsville</td>\n",
       "      <td>KY</td>\n",
       "      <td>usa</td>\n",
       "      <td>37.024495</td>\n",
       "      <td>-88.302493</td>\n",
       "    </tr>\n",
       "    <tr>\n",
       "      <th>1</th>\n",
       "      <td>Golden Pond (near)</td>\n",
       "      <td>KY</td>\n",
       "      <td>usa</td>\n",
       "      <td>36.785608</td>\n",
       "      <td>-88.024192</td>\n",
       "    </tr>\n",
       "    <tr>\n",
       "      <th>2</th>\n",
       "      <td>Goshen/Prospect</td>\n",
       "      <td>KY</td>\n",
       "      <td>usa</td>\n",
       "      <td>38.403318</td>\n",
       "      <td>-85.583077</td>\n",
       "    </tr>\n",
       "    <tr>\n",
       "      <th>3</th>\n",
       "      <td>Gosport</td>\n",
       "      <td>KY</td>\n",
       "      <td>usa</td>\n",
       "      <td>37.839333</td>\n",
       "      <td>-84.270018</td>\n",
       "    </tr>\n",
       "    <tr>\n",
       "      <th>4</th>\n",
       "      <td>Grand Rives</td>\n",
       "      <td>KY</td>\n",
       "      <td>usa</td>\n",
       "      <td>37.003111</td>\n",
       "      <td>-88.234475</td>\n",
       "    </tr>\n",
       "    <tr>\n",
       "      <th>...</th>\n",
       "      <td>...</td>\n",
       "      <td>...</td>\n",
       "      <td>...</td>\n",
       "      <td>...</td>\n",
       "      <td>...</td>\n",
       "    </tr>\n",
       "    <tr>\n",
       "      <th>28327</th>\n",
       "      <td>Ft. Knox</td>\n",
       "      <td>KY</td>\n",
       "      <td>usa</td>\n",
       "      <td>37.883664</td>\n",
       "      <td>-85.965269</td>\n",
       "    </tr>\n",
       "    <tr>\n",
       "      <th>28328</th>\n",
       "      <td>Ft. Mitchell</td>\n",
       "      <td>KY</td>\n",
       "      <td>usa</td>\n",
       "      <td>39.047205</td>\n",
       "      <td>-84.559917</td>\n",
       "    </tr>\n",
       "    <tr>\n",
       "      <th>28329</th>\n",
       "      <td>Ft. Wright</td>\n",
       "      <td>KY</td>\n",
       "      <td>usa</td>\n",
       "      <td>39.051156</td>\n",
       "      <td>-84.535029</td>\n",
       "    </tr>\n",
       "    <tr>\n",
       "      <th>28330</th>\n",
       "      <td>Gamaliel</td>\n",
       "      <td>KY</td>\n",
       "      <td>usa</td>\n",
       "      <td>36.639778</td>\n",
       "      <td>-85.796644</td>\n",
       "    </tr>\n",
       "    <tr>\n",
       "      <th>28331</th>\n",
       "      <td>Garrett</td>\n",
       "      <td>KY</td>\n",
       "      <td>usa</td>\n",
       "      <td>37.479821</td>\n",
       "      <td>-82.831550</td>\n",
       "    </tr>\n",
       "  </tbody>\n",
       "</table>\n",
       "<p>28332 rows × 5 columns</p>\n",
       "</div>"
      ],
      "text/plain": [
       "                     city state country        lat        lng\n",
       "0           Gilbertsville    KY     usa  37.024495 -88.302493\n",
       "1      Golden Pond (near)    KY     usa  36.785608 -88.024192\n",
       "2         Goshen/Prospect    KY     usa  38.403318 -85.583077\n",
       "3                 Gosport    KY     usa  37.839333 -84.270018\n",
       "4             Grand Rives    KY     usa  37.003111 -88.234475\n",
       "...                   ...   ...     ...        ...        ...\n",
       "28327            Ft. Knox    KY     usa  37.883664 -85.965269\n",
       "28328        Ft. Mitchell    KY     usa  39.047205 -84.559917\n",
       "28329          Ft. Wright    KY     usa  39.051156 -84.535029\n",
       "28330            Gamaliel    KY     usa  36.639778 -85.796644\n",
       "28331             Garrett    KY     usa  37.479821 -82.831550\n",
       "\n",
       "[28332 rows x 5 columns]"
      ]
     },
     "execution_count": 15,
     "metadata": {},
     "output_type": "execute_result"
    }
   ],
   "source": [
    "lat_lng"
   ]
  },
  {
   "cell_type": "code",
   "execution_count": 18,
   "id": "102ad708",
   "metadata": {
    "scrolled": true
   },
   "outputs": [],
   "source": [
    "ufo = pd.merge(ufo, lat_lng, how='left', on=['city', 'state'])"
   ]
  },
  {
   "cell_type": "code",
   "execution_count": 23,
   "id": "bd03e4ae",
   "metadata": {},
   "outputs": [],
   "source": [
    "ufo.drop('country_y', axis = 1, inplace=True)"
   ]
  },
  {
   "cell_type": "code",
   "execution_count": 25,
   "id": "cb4d137e",
   "metadata": {},
   "outputs": [],
   "source": [
    "ufo.rename(columns={'country_x': 'country'}, inplace=True)"
   ]
  },
  {
   "cell_type": "code",
   "execution_count": 30,
   "id": "08e031b7",
   "metadata": {},
   "outputs": [],
   "source": [
    "ufo.country = ufo.country.str.lower()"
   ]
  },
  {
   "cell_type": "markdown",
   "id": "6b86a138",
   "metadata": {},
   "source": [
    "# save new df"
   ]
  },
  {
   "cell_type": "code",
   "execution_count": 32,
   "id": "2f29f646",
   "metadata": {},
   "outputs": [],
   "source": [
    "ufo.to_csv('ufo.csv')"
   ]
  },
  {
   "cell_type": "markdown",
   "id": "c1c697a5",
   "metadata": {},
   "source": [
    "<span style='background:purple; font-size:25px'>getting distinct city names</span>"
   ]
  },
  {
   "cell_type": "raw",
   "id": "7d1e4ea1",
   "metadata": {},
   "source": [
    "ufo.groupby('city')['state']"
   ]
  },
  {
   "cell_type": "raw",
   "id": "f318a04a",
   "metadata": {},
   "source": [
    "state_counts_per_city = ufo_usa.groupby('state')['city'].value_counts()"
   ]
  },
  {
   "cell_type": "raw",
   "id": "69bf711c",
   "metadata": {},
   "source": [
    "state_counts_per_city.sort_values()"
   ]
  },
  {
   "cell_type": "raw",
   "id": "f54ee70d",
   "metadata": {},
   "source": [
    "unique_cities = pd.DataFrame(state_counts_per_city)"
   ]
  },
  {
   "cell_type": "raw",
   "id": "b782020d",
   "metadata": {},
   "source": [
    "unique_cities = unique_cities.rename(columns = {'city1': 'count'})"
   ]
  },
  {
   "cell_type": "raw",
   "id": "f77685b4",
   "metadata": {},
   "source": [
    "unique_cities = unique_cities.reset_index()"
   ]
  },
  {
   "cell_type": "raw",
   "id": "62ee4bcb",
   "metadata": {},
   "source": [
    "unique_cities.sort_values(by = 'count')"
   ]
  },
  {
   "cell_type": "raw",
   "id": "3b492754",
   "metadata": {},
   "source": [
    "unique_cities.state = unique_cities.state.str.replace('0', 'O') # fix example: 0R -> OR"
   ]
  },
  {
   "cell_type": "raw",
   "id": "372d888d",
   "metadata": {},
   "source": [
    "unique_cities.to_csv('ufocolumns.csv', index = False)"
   ]
  },
  {
   "cell_type": "markdown",
   "id": "0a01443f",
   "metadata": {},
   "source": [
    "<span style='background:yellow; font-size:25px'>SCRATCH PAD</span>"
   ]
  },
  {
   "cell_type": "code",
   "execution_count": 65,
   "id": "32d4766c",
   "metadata": {},
   "outputs": [
    {
     "data": {
      "text/plain": [
       "False    129293\n",
       "Name: month, dtype: int64"
      ]
     },
     "execution_count": 65,
     "metadata": {},
     "output_type": "execute_result"
    }
   ],
   "source": [
    "ufo.month.isna().value_counts()"
   ]
  },
  {
   "cell_type": "code",
   "execution_count": 90,
   "id": "329cca60",
   "metadata": {},
   "outputs": [],
   "source": [
    "listToStr = ' '.join([str(elem) for elem in enumerate (ufo.image_links)])\n"
   ]
  },
  {
   "cell_type": "code",
   "execution_count": 116,
   "id": "eef8c1e2",
   "metadata": {
    "scrolled": true
   },
   "outputs": [
    {
     "data": {
      "text/html": [
       "<div>\n",
       "<style scoped>\n",
       "    .dataframe tbody tr th:only-of-type {\n",
       "        vertical-align: middle;\n",
       "    }\n",
       "\n",
       "    .dataframe tbody tr th {\n",
       "        vertical-align: top;\n",
       "    }\n",
       "\n",
       "    .dataframe thead th {\n",
       "        text-align: right;\n",
       "    }\n",
       "</style>\n",
       "<table border=\"1\" class=\"dataframe\">\n",
       "  <thead>\n",
       "    <tr style=\"text-align: right;\">\n",
       "      <th></th>\n",
       "      <th>date</th>\n",
       "      <th>month</th>\n",
       "      <th>year</th>\n",
       "      <th>reportlink</th>\n",
       "      <th>city</th>\n",
       "      <th>state</th>\n",
       "      <th>country</th>\n",
       "      <th>shape</th>\n",
       "      <th>duration</th>\n",
       "      <th>description</th>\n",
       "      <th>post_date</th>\n",
       "      <th>images</th>\n",
       "      <th>image_links</th>\n",
       "    </tr>\n",
       "  </thead>\n",
       "  <tbody>\n",
       "  </tbody>\n",
       "</table>\n",
       "</div>"
      ],
      "text/plain": [
       "Empty DataFrame\n",
       "Columns: [date, month, year, reportlink, city, state, country, shape, duration, description, post_date, images, image_links]\n",
       "Index: []"
      ]
     },
     "execution_count": 116,
     "metadata": {},
     "output_type": "execute_result"
    }
   ],
   "source": [
    "ufo.loc[ufo['images'] == 'NaN']"
   ]
  },
  {
   "cell_type": "code",
   "execution_count": 118,
   "id": "cd8e7325",
   "metadata": {},
   "outputs": [],
   "source": [
    "ufo.image_links = ufo.image_links.replace('nan', np.nan)"
   ]
  },
  {
   "cell_type": "code",
   "execution_count": 201,
   "id": "6bacacb8",
   "metadata": {},
   "outputs": [],
   "source": [
    "# make lists strings\n",
    "for index, row in ufo.iterrows():\n",
    "    if pd.notna(row['image_links']):\n",
    "        ufo.loc[index, 'image_links'] = row['image_links'].strip('[]')"
   ]
  },
  {
   "cell_type": "code",
   "execution_count": 212,
   "id": "635f5099",
   "metadata": {},
   "outputs": [],
   "source": [
    "ufo['image_links'] = ufo['image_links'].str.replace(\"'\", '') # remove single quotes\n"
   ]
  },
  {
   "cell_type": "code",
   "execution_count": 213,
   "id": "42c94977",
   "metadata": {},
   "outputs": [
    {
     "data": {
      "text/plain": [
       "'https://nuforc.org/wp-content/uploads/wpforms/624-c824613929464448a7e062112379f845/20220405_195733-ca637737fb8d5d9ddd597a83e399a054.jpg, https://nuforc.org/wp-content/uploads/wpforms/624-c824613929464448a7e062112379f845/20220405_195709-dfbe62e82af00b489420bdc69baf43b9.jpg, https://nuforc.org/wp-content/uploads/wpforms/624-c824613929464448a7e062112379f845/20220405_195826-b18f8faa0d28213c1abf695ec5345bc2.jpg'"
      ]
     },
     "execution_count": 213,
     "metadata": {},
     "output_type": "execute_result"
    }
   ],
   "source": [
    "ufo.image_links[128248]"
   ]
  },
  {
   "cell_type": "code",
   "execution_count": 34,
   "id": "62ec7c47",
   "metadata": {},
   "outputs": [
    {
     "data": {
      "text/plain": [
       "Timestamp('1905-07-02 00:00:00')"
      ]
     },
     "execution_count": 34,
     "metadata": {},
     "output_type": "execute_result"
    }
   ],
   "source": [
    "ufo.date.min()"
   ]
  },
  {
   "cell_type": "code",
   "execution_count": null,
   "id": "5e431cee",
   "metadata": {},
   "outputs": [],
   "source": []
  }
 ],
 "metadata": {
  "kernelspec": {
   "display_name": "Python 3 (ipykernel)",
   "language": "python",
   "name": "python3"
  },
  "language_info": {
   "codemirror_mode": {
    "name": "ipython",
    "version": 3
   },
   "file_extension": ".py",
   "mimetype": "text/x-python",
   "name": "python",
   "nbconvert_exporter": "python",
   "pygments_lexer": "ipython3",
   "version": "3.10.9"
  }
 },
 "nbformat": 4,
 "nbformat_minor": 5
}
