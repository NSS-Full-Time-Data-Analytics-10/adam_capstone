{
 "cells": [
  {
   "cell_type": "code",
   "execution_count": 1,
   "id": "54bf4df7",
   "metadata": {},
   "outputs": [],
   "source": [
    "import pandas as pd\n",
    "import requests\n",
    "from bs4 import BeautifulSoup as BS\n",
    "import numpy as np\n",
    "import re\n",
    "pd.set_option('display.max_colwidth', None)\n",
    "from datetime import datetime\n"
   ]
  },
  {
   "cell_type": "markdown",
   "id": "2b255eab",
   "metadata": {},
   "source": [
    "<span style='background:purple; font-size:25px'>individual csv files</span>"
   ]
  },
  {
   "cell_type": "code",
   "execution_count": 2,
   "id": "cbd5a311",
   "metadata": {},
   "outputs": [],
   "source": [
    "# triangle = pd.read_csv('data/triangle_shape.csv')\n",
    "# unknown_shape = pd.read_csv('data/unknown_shape.csv')\n",
    "# unspecified_shape = pd.read_csv('data/unspecified_shape.csv')\n",
    "# changing_shape = pd.read_csv('data/changing_shape.csv')\n",
    "# chevron_shape = pd.read_csv('data/chevron_shape.csv')\n",
    "# cigar_shape = pd.read_csv('data/cigar_shape.csv')\n",
    "# circle_shape = pd.read_csv('data/circle_shape.csv')\n",
    "# cone_shape = pd.read_csv('data/cone_shape.csv')\n",
    "# cross_shape = pd.read_csv('data/cross_shape.csv')\n",
    "# cube_shape = pd.read_csv('data/cube_shape.csv')\n",
    "# cylinder_shape = pd.read_csv('data/cylinder_shape.csv')\n",
    "# delta_shape = pd.read_csv('data/delta_shape.csv')\n",
    "# diamond_shape = pd.read_csv('data/diamond_shape.csv')\n",
    "# disk_shape = pd.read_csv('data/disk_shape.csv')\n",
    "# egg_shape = pd.read_csv('data/egg_shape.csv')\n",
    "# fireball_shape = pd.read_csv('data/fireball_shape.csv')\n",
    "# flash_shape = pd.read_csv('data/flash_shape.csv')\n",
    "# formation_shape = pd.read_csv('data/formation_shape.csv')\n",
    "# light_shape = pd.read_csv('data/light_shape.csv')\n",
    "# orb_shape = pd.read_csv('data/orb_shape.csv')\n",
    "# other_shape = pd.read_csv('data/other_shape.csv')\n",
    "# oval_shape = pd.read_csv('data/oval_shape.csv')\n",
    "# rectangle_shape = pd.read_csv('data/rectangle_shape.csv')\n",
    "# sphere_shape = pd.read_csv('data/sphere_shape.csv')\n",
    "# star_shape = pd.read_csv('data/star_shape.csv')\n",
    "# teardrop_shape = pd.read_csv('data/teardrop_shape.csv')"
   ]
  },
  {
   "cell_type": "markdown",
   "id": "556c28c4",
   "metadata": {},
   "source": [
    "<span style='background:purple; font-size:25px'>combining individual files into 1</span>"
   ]
  },
  {
   "cell_type": "code",
   "execution_count": 3,
   "id": "8438be2c",
   "metadata": {},
   "outputs": [],
   "source": [
    "# df_list = [triangle, unknown_shape, unspecified_shape, changing_shape,\n",
    "#                    chevron_shape, cigar_shape, circle_shape, cone_shape,\n",
    "#                    cross_shape, cube_shape, cylinder_shape, delta_shape,\n",
    "#                    diamond_shape, disk_shape, egg_shape, fireball_shape,\n",
    "#                    flash_shape, formation_shape, light_shape, orb_shape,\n",
    "#                    other_shape, oval_shape, rectangle_shape, sphere_shape,\n",
    "#                    star_shape, teardrop_shape]"
   ]
  },
  {
   "cell_type": "code",
   "execution_count": 4,
   "id": "b4762b73",
   "metadata": {},
   "outputs": [],
   "source": [
    "# ufo = pd.concat(df_list)"
   ]
  },
  {
   "cell_type": "code",
   "execution_count": 5,
   "id": "778c9675",
   "metadata": {},
   "outputs": [],
   "source": [
    "# ufo.to_csv('ufo.csv', index = False)"
   ]
  },
  {
   "cell_type": "markdown",
   "id": "920ecaa9",
   "metadata": {},
   "source": [
    "<span style='background:purple; font-size:25px'>read in the full (cleaned) dataset csv</span>"
   ]
  },
  {
   "cell_type": "code",
   "execution_count": 29,
   "id": "453b058a",
   "metadata": {},
   "outputs": [],
   "source": [
    "ufo = pd.read_csv('data/ufo.csv')"
   ]
  },
  {
   "cell_type": "code",
   "execution_count": 27,
   "id": "14d43f12",
   "metadata": {},
   "outputs": [
    {
     "data": {
      "text/plain": [
       "(145202, 14)"
      ]
     },
     "execution_count": 27,
     "metadata": {},
     "output_type": "execute_result"
    }
   ],
   "source": [
    "ufo.shape"
   ]
  },
  {
   "cell_type": "code",
   "execution_count": null,
   "id": "7d8fc994",
   "metadata": {},
   "outputs": [],
   "source": [
    "# convert date column to datetime and create year/month"
   ]
  },
  {
   "cell_type": "code",
   "execution_count": null,
   "id": "d3f319ed",
   "metadata": {},
   "outputs": [],
   "source": [
    "ufo.date = pd.to_datetime(ufo['date'], errors = 'coerce')"
   ]
  },
  {
   "cell_type": "code",
   "execution_count": null,
   "id": "7c53e3b1",
   "metadata": {},
   "outputs": [],
   "source": [
    "ufo.dropna(subset=['date'], inplace=True) # drop rows with none/invalid dates"
   ]
  },
  {
   "cell_type": "code",
   "execution_count": null,
   "id": "53fe2829",
   "metadata": {},
   "outputs": [],
   "source": [
    "current_date = pd.Timestamp(datetime.now())\n",
    "\n",
    "ufo = ufo[ufo['date'] <= current_date] # get rid of rows with dates after today"
   ]
  },
  {
   "cell_type": "code",
   "execution_count": null,
   "id": "f6b6b0fe",
   "metadata": {},
   "outputs": [],
   "source": [
    "ufo['months'] = ufo.date.dt.strftime('%B') # create month column using months name"
   ]
  },
  {
   "cell_type": "code",
   "execution_count": null,
   "id": "4fb72c4a",
   "metadata": {},
   "outputs": [],
   "source": [
    "ufo.insert(1, 'month', ufo.months) # move month column to after date"
   ]
  },
  {
   "cell_type": "code",
   "execution_count": null,
   "id": "871965b3",
   "metadata": {},
   "outputs": [],
   "source": [
    "ufo.drop('months', axis=1, inplace=True) # drop old months column"
   ]
  },
  {
   "cell_type": "code",
   "execution_count": null,
   "id": "2f8aa02a",
   "metadata": {},
   "outputs": [],
   "source": [
    "ufo['years'] = ufo['date'].dt.year.astype(int) # create years column as int"
   ]
  },
  {
   "cell_type": "code",
   "execution_count": null,
   "id": "e5fad83b",
   "metadata": {},
   "outputs": [],
   "source": [
    "ufo.insert(2, 'year', ufo.years)"
   ]
  },
  {
   "cell_type": "code",
   "execution_count": null,
   "id": "6f42cc19",
   "metadata": {},
   "outputs": [],
   "source": [
    "ufo.drop('years', axis=1, inplace=True)"
   ]
  },
  {
   "cell_type": "code",
   "execution_count": null,
   "id": "eceaa6fd",
   "metadata": {},
   "outputs": [],
   "source": [
    "ufo.head(2)"
   ]
  },
  {
   "cell_type": "markdown",
   "id": "955b177c",
   "metadata": {},
   "source": [
    "# create cleaned csv"
   ]
  },
  {
   "cell_type": "code",
   "execution_count": 23,
   "id": "1a91d8d0",
   "metadata": {},
   "outputs": [],
   "source": [
    "# ufo.to_csv('ufo.csv', index = False)"
   ]
  },
  {
   "cell_type": "code",
   "execution_count": 30,
   "id": "96954454",
   "metadata": {
    "scrolled": true
   },
   "outputs": [
    {
     "data": {
      "text/html": [
       "<div>\n",
       "<style scoped>\n",
       "    .dataframe tbody tr th:only-of-type {\n",
       "        vertical-align: middle;\n",
       "    }\n",
       "\n",
       "    .dataframe tbody tr th {\n",
       "        vertical-align: top;\n",
       "    }\n",
       "\n",
       "    .dataframe thead th {\n",
       "        text-align: right;\n",
       "    }\n",
       "</style>\n",
       "<table border=\"1\" class=\"dataframe\">\n",
       "  <thead>\n",
       "    <tr style=\"text-align: right;\">\n",
       "      <th></th>\n",
       "      <th>date</th>\n",
       "      <th>month</th>\n",
       "      <th>year</th>\n",
       "      <th>reportlink</th>\n",
       "      <th>city</th>\n",
       "      <th>state</th>\n",
       "      <th>country</th>\n",
       "      <th>shape</th>\n",
       "      <th>duration</th>\n",
       "      <th>description</th>\n",
       "      <th>post_date</th>\n",
       "      <th>images</th>\n",
       "    </tr>\n",
       "  </thead>\n",
       "  <tbody>\n",
       "    <tr>\n",
       "      <th>0</th>\n",
       "      <td>7/29/2023</td>\n",
       "      <td>July</td>\n",
       "      <td>2023</td>\n",
       "      <td>https://nuforc.org/webreports/reports/177/S177093.html</td>\n",
       "      <td>Mallusk</td>\n",
       "      <td>Antrim and Newtownabbey</td>\n",
       "      <td>United Kingdom</td>\n",
       "      <td>Triangle</td>\n",
       "      <td>still current</td>\n",
       "      <td>A very bright light which moved closer. On the top of this light was a triangle reflection that appeared to be on top of the light.</td>\n",
       "      <td>7/29/2023</td>\n",
       "      <td>Yes</td>\n",
       "    </tr>\n",
       "    <tr>\n",
       "      <th>1</th>\n",
       "      <td>7/27/2023</td>\n",
       "      <td>July</td>\n",
       "      <td>2023</td>\n",
       "      <td>https://nuforc.org/webreports/reports/177/S177048.html</td>\n",
       "      <td>Plainfield</td>\n",
       "      <td>IN</td>\n",
       "      <td>USA</td>\n",
       "      <td>Triangle</td>\n",
       "      <td>1 minute</td>\n",
       "      <td>2 objects above store.</td>\n",
       "      <td>7/29/2023</td>\n",
       "      <td>NaN</td>\n",
       "    </tr>\n",
       "    <tr>\n",
       "      <th>2</th>\n",
       "      <td>7/26/2023</td>\n",
       "      <td>July</td>\n",
       "      <td>2023</td>\n",
       "      <td>https://nuforc.org/webreports/reports/177/S177053.html</td>\n",
       "      <td>Little Falls</td>\n",
       "      <td>MN</td>\n",
       "      <td>USA</td>\n",
       "      <td>Triangle</td>\n",
       "      <td>2 minutes</td>\n",
       "      <td>Saw 2 to 4 triangle craft with bright white lights on the angle tips</td>\n",
       "      <td>7/29/2023</td>\n",
       "      <td>NaN</td>\n",
       "    </tr>\n",
       "    <tr>\n",
       "      <th>3</th>\n",
       "      <td>7/25/2023</td>\n",
       "      <td>July</td>\n",
       "      <td>2023</td>\n",
       "      <td>https://nuforc.org/webreports/reports/177/S177081.html</td>\n",
       "      <td>sacramento</td>\n",
       "      <td>CA</td>\n",
       "      <td>USA</td>\n",
       "      <td>Triangle</td>\n",
       "      <td>around 5 min</td>\n",
       "      <td>Silent-more of a slight gush of wind/ triangular object/maybe size of jet/maybe quarter of mile high??</td>\n",
       "      <td>7/29/2023</td>\n",
       "      <td>NaN</td>\n",
       "    </tr>\n",
       "    <tr>\n",
       "      <th>4</th>\n",
       "      <td>7/23/2023</td>\n",
       "      <td>July</td>\n",
       "      <td>2023</td>\n",
       "      <td>https://nuforc.org/webreports/reports/176/S176930.html</td>\n",
       "      <td>Buford</td>\n",
       "      <td>GA</td>\n",
       "      <td>USA</td>\n",
       "      <td>Triangle</td>\n",
       "      <td>3+ hours</td>\n",
       "      <td>3 triangle shape white with reddish tint hovering and moving in unison and hovering in the same spot for hours</td>\n",
       "      <td>7/29/2023</td>\n",
       "      <td>Yes</td>\n",
       "    </tr>\n",
       "    <tr>\n",
       "      <th>...</th>\n",
       "      <td>...</td>\n",
       "      <td>...</td>\n",
       "      <td>...</td>\n",
       "      <td>...</td>\n",
       "      <td>...</td>\n",
       "      <td>...</td>\n",
       "      <td>...</td>\n",
       "      <td>...</td>\n",
       "      <td>...</td>\n",
       "      <td>...</td>\n",
       "      <td>...</td>\n",
       "      <td>...</td>\n",
       "    </tr>\n",
       "    <tr>\n",
       "      <th>145197</th>\n",
       "      <td>6/1/1961</td>\n",
       "      <td>June</td>\n",
       "      <td>1961</td>\n",
       "      <td>https://nuforc.org/webreports/reports/052/S52151.html</td>\n",
       "      <td>NaN</td>\n",
       "      <td>NY</td>\n",
       "      <td>USA</td>\n",
       "      <td>Teardrop</td>\n",
       "      <td>30 minutes</td>\n",
       "      <td>I was 11 yrs old. My Aunt and Uncle and I were driveing from Elmira NY to Bradford PA we were in the hills coming around a bend near a</td>\n",
       "      <td>10/30/2006</td>\n",
       "      <td>NaN</td>\n",
       "    </tr>\n",
       "    <tr>\n",
       "      <th>145198</th>\n",
       "      <td>7/10/1958</td>\n",
       "      <td>July</td>\n",
       "      <td>1958</td>\n",
       "      <td>https://nuforc.org/webreports/reports/027/S27374.html</td>\n",
       "      <td>Cheektowaga</td>\n",
       "      <td>NY</td>\n",
       "      <td>USA</td>\n",
       "      <td>Teardrop</td>\n",
       "      <td>10 -20 secs</td>\n",
       "      <td>White teardrop shaped object observed during the daytime</td>\n",
       "      <td>3/21/2003</td>\n",
       "      <td>NaN</td>\n",
       "    </tr>\n",
       "    <tr>\n",
       "      <th>145199</th>\n",
       "      <td>6/30/1958</td>\n",
       "      <td>June</td>\n",
       "      <td>1958</td>\n",
       "      <td>https://nuforc.org/webreports/reports/080/S80850.html</td>\n",
       "      <td>Conyers</td>\n",
       "      <td>GA</td>\n",
       "      <td>USA</td>\n",
       "      <td>Teardrop</td>\n",
       "      <td>5 min.</td>\n",
       "      <td>Sighting of a UFO ca. 1958.</td>\n",
       "      <td>5/2/2011</td>\n",
       "      <td>NaN</td>\n",
       "    </tr>\n",
       "    <tr>\n",
       "      <th>145200</th>\n",
       "      <td>6/30/1957</td>\n",
       "      <td>June</td>\n",
       "      <td>1957</td>\n",
       "      <td>https://nuforc.org/webreports/reports/048/S48502.html</td>\n",
       "      <td>New York City</td>\n",
       "      <td>NY</td>\n",
       "      <td>USA</td>\n",
       "      <td>Teardrop</td>\n",
       "      <td>i0min</td>\n",
       "      <td>glowing lights lead the way</td>\n",
       "      <td>2/14/2006</td>\n",
       "      <td>NaN</td>\n",
       "    </tr>\n",
       "    <tr>\n",
       "      <th>145201</th>\n",
       "      <td>4/9/1957</td>\n",
       "      <td>April</td>\n",
       "      <td>1957</td>\n",
       "      <td>https://nuforc.org/webreports/reports/144/S144824.html</td>\n",
       "      <td>Lahore</td>\n",
       "      <td>NaN</td>\n",
       "      <td>Pakistan</td>\n",
       "      <td>Teardrop</td>\n",
       "      <td>3 seconds</td>\n",
       "      <td>An object flew by at very high speed and high altitude (over 25,000feet).  ((anonymous report))</td>\n",
       "      <td>2/14/2019</td>\n",
       "      <td>NaN</td>\n",
       "    </tr>\n",
       "  </tbody>\n",
       "</table>\n",
       "<p>145202 rows × 12 columns</p>\n",
       "</div>"
      ],
      "text/plain": [
       "             date  month  year  \\\n",
       "0       7/29/2023   July  2023   \n",
       "1       7/27/2023   July  2023   \n",
       "2       7/26/2023   July  2023   \n",
       "3       7/25/2023   July  2023   \n",
       "4       7/23/2023   July  2023   \n",
       "...           ...    ...   ...   \n",
       "145197   6/1/1961   June  1961   \n",
       "145198  7/10/1958   July  1958   \n",
       "145199  6/30/1958   June  1958   \n",
       "145200  6/30/1957   June  1957   \n",
       "145201   4/9/1957  April  1957   \n",
       "\n",
       "                                                    reportlink           city  \\\n",
       "0       https://nuforc.org/webreports/reports/177/S177093.html        Mallusk   \n",
       "1       https://nuforc.org/webreports/reports/177/S177048.html     Plainfield   \n",
       "2       https://nuforc.org/webreports/reports/177/S177053.html   Little Falls   \n",
       "3       https://nuforc.org/webreports/reports/177/S177081.html     sacramento   \n",
       "4       https://nuforc.org/webreports/reports/176/S176930.html         Buford   \n",
       "...                                                        ...            ...   \n",
       "145197   https://nuforc.org/webreports/reports/052/S52151.html            NaN   \n",
       "145198   https://nuforc.org/webreports/reports/027/S27374.html    Cheektowaga   \n",
       "145199   https://nuforc.org/webreports/reports/080/S80850.html        Conyers   \n",
       "145200   https://nuforc.org/webreports/reports/048/S48502.html  New York City   \n",
       "145201  https://nuforc.org/webreports/reports/144/S144824.html         Lahore   \n",
       "\n",
       "                          state         country     shape       duration  \\\n",
       "0       Antrim and Newtownabbey  United Kingdom  Triangle  still current   \n",
       "1                            IN             USA  Triangle       1 minute   \n",
       "2                            MN             USA  Triangle      2 minutes   \n",
       "3                            CA             USA  Triangle   around 5 min   \n",
       "4                            GA             USA  Triangle       3+ hours   \n",
       "...                         ...             ...       ...            ...   \n",
       "145197                       NY             USA  Teardrop     30 minutes   \n",
       "145198                       NY             USA  Teardrop    10 -20 secs   \n",
       "145199                       GA             USA  Teardrop         5 min.   \n",
       "145200                       NY             USA  Teardrop          i0min   \n",
       "145201                      NaN        Pakistan  Teardrop      3 seconds   \n",
       "\n",
       "                                                                                                                                   description  \\\n",
       "0          A very bright light which moved closer. On the top of this light was a triangle reflection that appeared to be on top of the light.   \n",
       "1                                                                                                                       2 objects above store.   \n",
       "2                                                                         Saw 2 to 4 triangle craft with bright white lights on the angle tips   \n",
       "3                                       Silent-more of a slight gush of wind/ triangular object/maybe size of jet/maybe quarter of mile high??   \n",
       "4                               3 triangle shape white with reddish tint hovering and moving in unison and hovering in the same spot for hours   \n",
       "...                                                                                                                                        ...   \n",
       "145197  I was 11 yrs old. My Aunt and Uncle and I were driveing from Elmira NY to Bradford PA we were in the hills coming around a bend near a   \n",
       "145198                                                                                White teardrop shaped object observed during the daytime   \n",
       "145199                                                                                                             Sighting of a UFO ca. 1958.   \n",
       "145200                                                                                                             glowing lights lead the way   \n",
       "145201                                         An object flew by at very high speed and high altitude (over 25,000feet).  ((anonymous report))   \n",
       "\n",
       "         post_date images  \n",
       "0        7/29/2023    Yes  \n",
       "1        7/29/2023    NaN  \n",
       "2        7/29/2023    NaN  \n",
       "3        7/29/2023    NaN  \n",
       "4        7/29/2023    Yes  \n",
       "...            ...    ...  \n",
       "145197  10/30/2006    NaN  \n",
       "145198   3/21/2003    NaN  \n",
       "145199    5/2/2011    NaN  \n",
       "145200   2/14/2006    NaN  \n",
       "145201   2/14/2019    NaN  \n",
       "\n",
       "[145202 rows x 12 columns]"
      ]
     },
     "execution_count": 30,
     "metadata": {},
     "output_type": "execute_result"
    }
   ],
   "source": [
    "ufo"
   ]
  },
  {
   "cell_type": "code",
   "execution_count": null,
   "id": "9326afda",
   "metadata": {},
   "outputs": [],
   "source": []
  }
 ],
 "metadata": {
  "kernelspec": {
   "display_name": "Python 3 (ipykernel)",
   "language": "python",
   "name": "python3"
  },
  "language_info": {
   "codemirror_mode": {
    "name": "ipython",
    "version": 3
   },
   "file_extension": ".py",
   "mimetype": "text/x-python",
   "name": "python",
   "nbconvert_exporter": "python",
   "pygments_lexer": "ipython3",
   "version": "3.10.9"
  }
 },
 "nbformat": 4,
 "nbformat_minor": 5
}
