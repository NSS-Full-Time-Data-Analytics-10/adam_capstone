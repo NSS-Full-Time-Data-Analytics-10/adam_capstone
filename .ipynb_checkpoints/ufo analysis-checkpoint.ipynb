{
 "cells": [
  {
   "cell_type": "code",
   "execution_count": 2,
   "id": "c42e7a75",
   "metadata": {},
   "outputs": [],
   "source": [
    "import pandas as pd\n",
    "import requests\n",
    "from bs4 import BeautifulSoup as BS\n",
    "import numpy as np\n",
    "import re\n",
    "pd.set_option('display.max_colwidth', None)\n",
    "from datetime import datetime\n",
    "import ast"
   ]
  },
  {
   "cell_type": "code",
   "execution_count": 3,
   "id": "c1ca9672",
   "metadata": {},
   "outputs": [],
   "source": [
    "ufo = pd.read_csv('ufo.csv')"
   ]
  },
  {
   "cell_type": "code",
   "execution_count": 4,
   "id": "9e933a39",
   "metadata": {},
   "outputs": [],
   "source": [
    "# convert date to date/time\n",
    "ufo.date = pd.to_datetime(ufo.date)"
   ]
  },
  {
   "cell_type": "markdown",
   "id": "2a043391",
   "metadata": {},
   "source": [
    "<span style='background:purple; font-size:25px'>getting image links from reportlink</span>"
   ]
  },
  {
   "cell_type": "markdown",
   "id": "40aa07f3",
   "metadata": {},
   "source": [
    "# subset data on images = yes"
   ]
  },
  {
   "cell_type": "raw",
   "id": "8e084195",
   "metadata": {},
   "source": [
    "ufo.images = ufo.images.str.lower() # make uniform"
   ]
  },
  {
   "cell_type": "raw",
   "id": "9eeadfe8",
   "metadata": {},
   "source": [
    "# make list out of report to loop through\n",
    "report_links = list(ufo.loc[ufo['images'] == 'yes', 'reportlink']) "
   ]
  },
  {
   "cell_type": "raw",
   "id": "e96a8592",
   "metadata": {},
   "source": [
    "# function to add the first part of the url to all the report links so they will work\n",
    "def report_links(link):\n",
    "    link = 'https://nuforc.org/webreports/' + link\n",
    "    return link"
   ]
  },
  {
   "cell_type": "raw",
   "id": "bc72f267",
   "metadata": {},
   "source": [
    "# function to get the image tags from each report link\n",
    "def get_images(url):\n",
    "    response = requests.get(url)\n",
    "    images = []\n",
    "    soup = BS(response.text, 'html.parser')\n",
    "    img_tags = soup.find_all('img')\n",
    "\n",
    "    for img_tag in img_tags:\n",
    "        img_url = img_tag.get('src')\n",
    "        if img_url.startswith('//'):\n",
    "            img_url = 'http:' + img_url\n",
    "        elif img_url.startswith('/'):\n",
    "            img_url = '/'.join(url.split('/')[:3]) + img_url # making sure http:// is included\n",
    "\n",
    "        images.append(img_url)\n",
    "\n",
    "    return images"
   ]
  },
  {
   "cell_type": "raw",
   "id": "1bf14006",
   "metadata": {
    "scrolled": true
   },
   "source": [
    "# will take some time to run ~ 10 minutes\n",
    "images_list = []\n",
    "i = 0\n",
    "\n",
    "for link in report_links:\n",
    "    # Call the 'get_images_from_webpage' function for each link and append the result to 'images_list'\n",
    "    images_for_link = get_images(link) # call function get_images\n",
    "    images_list.append([link, images_for_link]) # add image link and original report link to list\n",
    "    i+=1\n",
    "    if i % 100 == 0: # only print the loop count every 100 items\n",
    "        print(f'Loop count: {i}')"
   ]
  },
  {
   "cell_type": "code",
   "execution_count": 28,
   "id": "8cfad24c",
   "metadata": {
    "scrolled": true
   },
   "outputs": [],
   "source": [
    "# images_df = pd.DataFrame(images_list, columns=['reportlink', 'image_links']) # make dataframe with columns"
   ]
  },
  {
   "cell_type": "markdown",
   "id": "b0751cd6",
   "metadata": {},
   "source": [
    "<span style='background:purple; font-size:25px'>combine ufo and images_df dataframes</span>"
   ]
  },
  {
   "cell_type": "code",
   "execution_count": 34,
   "id": "fdace7de",
   "metadata": {},
   "outputs": [],
   "source": [
    "# ufo = pd.merge(ufo, images_df, how = 'left', on = 'reportlink')"
   ]
  },
  {
   "cell_type": "markdown",
   "id": "51735691",
   "metadata": {},
   "source": [
    "<span style='background:purple; font-size:25px'>combine ufo and lat, lng data (merge on location)</span>"
   ]
  },
  {
   "cell_type": "code",
   "execution_count": 232,
   "id": "c4411c53",
   "metadata": {},
   "outputs": [],
   "source": [
    "lat_lng = pd.read_csv('ufo_columns_lat_lng.csv', encoding='latin1')\n"
   ]
  },
  {
   "cell_type": "code",
   "execution_count": 235,
   "id": "28dea28c",
   "metadata": {},
   "outputs": [],
   "source": [
    "lat_lng = lat_lng.drop('Unnamed: 5', axis=1)"
   ]
  },
  {
   "cell_type": "markdown",
   "id": "c1c697a5",
   "metadata": {},
   "source": [
    "<span style='background:purple; font-size:25px'>getting distinct city names</span>"
   ]
  },
  {
   "cell_type": "raw",
   "id": "7d1e4ea1",
   "metadata": {},
   "source": [
    "ufo.groupby('city')['state']"
   ]
  },
  {
   "cell_type": "raw",
   "id": "f318a04a",
   "metadata": {},
   "source": [
    "state_counts_per_city = ufo_usa.groupby('state')['city'].value_counts()"
   ]
  },
  {
   "cell_type": "raw",
   "id": "69bf711c",
   "metadata": {},
   "source": [
    "state_counts_per_city.sort_values()"
   ]
  },
  {
   "cell_type": "raw",
   "id": "f54ee70d",
   "metadata": {},
   "source": [
    "unique_cities = pd.DataFrame(state_counts_per_city)"
   ]
  },
  {
   "cell_type": "raw",
   "id": "b782020d",
   "metadata": {},
   "source": [
    "unique_cities = unique_cities.rename(columns = {'city1': 'count'})"
   ]
  },
  {
   "cell_type": "raw",
   "id": "f77685b4",
   "metadata": {},
   "source": [
    "unique_cities = unique_cities.reset_index()"
   ]
  },
  {
   "cell_type": "raw",
   "id": "62ee4bcb",
   "metadata": {},
   "source": [
    "unique_cities.sort_values(by = 'count')"
   ]
  },
  {
   "cell_type": "raw",
   "id": "3b492754",
   "metadata": {},
   "source": [
    "unique_cities.state = unique_cities.state.str.replace('0', 'O') # fix example: 0R -> OR"
   ]
  },
  {
   "cell_type": "raw",
   "id": "372d888d",
   "metadata": {},
   "source": [
    "unique_cities.to_csv('ufocolumns.csv', index = False)"
   ]
  },
  {
   "cell_type": "markdown",
   "id": "0a01443f",
   "metadata": {},
   "source": [
    "<span style='background:yellow; font-size:25px'>SCRATCH PAD</span>"
   ]
  },
  {
   "cell_type": "code",
   "execution_count": 65,
   "id": "32d4766c",
   "metadata": {},
   "outputs": [
    {
     "data": {
      "text/plain": [
       "False    129293\n",
       "Name: month, dtype: int64"
      ]
     },
     "execution_count": 65,
     "metadata": {},
     "output_type": "execute_result"
    }
   ],
   "source": [
    "ufo.month.isna().value_counts()"
   ]
  },
  {
   "cell_type": "code",
   "execution_count": 90,
   "id": "329cca60",
   "metadata": {},
   "outputs": [],
   "source": [
    "listToStr = ' '.join([str(elem) for elem in enumerate (ufo.image_links)])\n"
   ]
  },
  {
   "cell_type": "code",
   "execution_count": 116,
   "id": "eef8c1e2",
   "metadata": {
    "scrolled": true
   },
   "outputs": [
    {
     "data": {
      "text/html": [
       "<div>\n",
       "<style scoped>\n",
       "    .dataframe tbody tr th:only-of-type {\n",
       "        vertical-align: middle;\n",
       "    }\n",
       "\n",
       "    .dataframe tbody tr th {\n",
       "        vertical-align: top;\n",
       "    }\n",
       "\n",
       "    .dataframe thead th {\n",
       "        text-align: right;\n",
       "    }\n",
       "</style>\n",
       "<table border=\"1\" class=\"dataframe\">\n",
       "  <thead>\n",
       "    <tr style=\"text-align: right;\">\n",
       "      <th></th>\n",
       "      <th>date</th>\n",
       "      <th>month</th>\n",
       "      <th>year</th>\n",
       "      <th>reportlink</th>\n",
       "      <th>city</th>\n",
       "      <th>state</th>\n",
       "      <th>country</th>\n",
       "      <th>shape</th>\n",
       "      <th>duration</th>\n",
       "      <th>description</th>\n",
       "      <th>post_date</th>\n",
       "      <th>images</th>\n",
       "      <th>image_links</th>\n",
       "    </tr>\n",
       "  </thead>\n",
       "  <tbody>\n",
       "  </tbody>\n",
       "</table>\n",
       "</div>"
      ],
      "text/plain": [
       "Empty DataFrame\n",
       "Columns: [date, month, year, reportlink, city, state, country, shape, duration, description, post_date, images, image_links]\n",
       "Index: []"
      ]
     },
     "execution_count": 116,
     "metadata": {},
     "output_type": "execute_result"
    }
   ],
   "source": [
    "ufo.loc[ufo['images'] == 'NaN']"
   ]
  },
  {
   "cell_type": "code",
   "execution_count": 118,
   "id": "cd8e7325",
   "metadata": {},
   "outputs": [],
   "source": [
    "ufo.image_links = ufo.image_links.replace('nan', np.nan)"
   ]
  },
  {
   "cell_type": "code",
   "execution_count": 201,
   "id": "6bacacb8",
   "metadata": {},
   "outputs": [],
   "source": [
    "# make lists strings\n",
    "for index, row in ufo.iterrows():\n",
    "    if pd.notna(row['image_links']):\n",
    "        ufo.loc[index, 'image_links'] = row['image_links'].strip('[]')"
   ]
  },
  {
   "cell_type": "code",
   "execution_count": 212,
   "id": "635f5099",
   "metadata": {},
   "outputs": [],
   "source": [
    "ufo['image_links'] = ufo['image_links'].str.replace(\"'\", '') # remove single quotes\n"
   ]
  },
  {
   "cell_type": "code",
   "execution_count": 213,
   "id": "42c94977",
   "metadata": {},
   "outputs": [
    {
     "data": {
      "text/plain": [
       "'https://nuforc.org/wp-content/uploads/wpforms/624-c824613929464448a7e062112379f845/20220405_195733-ca637737fb8d5d9ddd597a83e399a054.jpg, https://nuforc.org/wp-content/uploads/wpforms/624-c824613929464448a7e062112379f845/20220405_195709-dfbe62e82af00b489420bdc69baf43b9.jpg, https://nuforc.org/wp-content/uploads/wpforms/624-c824613929464448a7e062112379f845/20220405_195826-b18f8faa0d28213c1abf695ec5345bc2.jpg'"
      ]
     },
     "execution_count": 213,
     "metadata": {},
     "output_type": "execute_result"
    }
   ],
   "source": [
    "ufo.image_links[128248]"
   ]
  },
  {
   "cell_type": "code",
   "execution_count": 8,
   "id": "62ec7c47",
   "metadata": {},
   "outputs": [
    {
     "data": {
      "text/html": [
       "<div>\n",
       "<style scoped>\n",
       "    .dataframe tbody tr th:only-of-type {\n",
       "        vertical-align: middle;\n",
       "    }\n",
       "\n",
       "    .dataframe tbody tr th {\n",
       "        vertical-align: top;\n",
       "    }\n",
       "\n",
       "    .dataframe thead th {\n",
       "        text-align: right;\n",
       "    }\n",
       "</style>\n",
       "<table border=\"1\" class=\"dataframe\">\n",
       "  <thead>\n",
       "    <tr style=\"text-align: right;\">\n",
       "      <th></th>\n",
       "      <th>date</th>\n",
       "      <th>month</th>\n",
       "      <th>year</th>\n",
       "      <th>reportlink</th>\n",
       "      <th>city</th>\n",
       "      <th>state</th>\n",
       "      <th>country</th>\n",
       "      <th>shape</th>\n",
       "      <th>duration</th>\n",
       "      <th>description</th>\n",
       "      <th>post_date</th>\n",
       "      <th>images</th>\n",
       "      <th>image_links</th>\n",
       "    </tr>\n",
       "  </thead>\n",
       "  <tbody>\n",
       "    <tr>\n",
       "      <th>0</th>\n",
       "      <td>2023-07-27</td>\n",
       "      <td>July</td>\n",
       "      <td>2023</td>\n",
       "      <td>https://nuforc.org/webreports/reports/177/S177048.html</td>\n",
       "      <td>Plainfield</td>\n",
       "      <td>IN</td>\n",
       "      <td>USA</td>\n",
       "      <td>triangle</td>\n",
       "      <td>1 minute</td>\n",
       "      <td>2 objects above store.</td>\n",
       "      <td>7/29/2023</td>\n",
       "      <td>NaN</td>\n",
       "      <td>NaN</td>\n",
       "    </tr>\n",
       "    <tr>\n",
       "      <th>1</th>\n",
       "      <td>2023-07-26</td>\n",
       "      <td>July</td>\n",
       "      <td>2023</td>\n",
       "      <td>https://nuforc.org/webreports/reports/177/S177053.html</td>\n",
       "      <td>Little Falls</td>\n",
       "      <td>MN</td>\n",
       "      <td>USA</td>\n",
       "      <td>triangle</td>\n",
       "      <td>2 minutes</td>\n",
       "      <td>Saw 2 to 4 triangle craft with bright white lights on the angle tips</td>\n",
       "      <td>7/29/2023</td>\n",
       "      <td>NaN</td>\n",
       "      <td>NaN</td>\n",
       "    </tr>\n",
       "    <tr>\n",
       "      <th>2</th>\n",
       "      <td>2023-07-25</td>\n",
       "      <td>July</td>\n",
       "      <td>2023</td>\n",
       "      <td>https://nuforc.org/webreports/reports/177/S177081.html</td>\n",
       "      <td>sacramento</td>\n",
       "      <td>CA</td>\n",
       "      <td>USA</td>\n",
       "      <td>triangle</td>\n",
       "      <td>around 5 min</td>\n",
       "      <td>Silent-more of a slight gush of wind/ triangular object/maybe size of jet/maybe quarter of mile high??</td>\n",
       "      <td>7/29/2023</td>\n",
       "      <td>NaN</td>\n",
       "      <td>NaN</td>\n",
       "    </tr>\n",
       "    <tr>\n",
       "      <th>3</th>\n",
       "      <td>2023-07-23</td>\n",
       "      <td>July</td>\n",
       "      <td>2023</td>\n",
       "      <td>https://nuforc.org/webreports/reports/176/S176930.html</td>\n",
       "      <td>Buford</td>\n",
       "      <td>GA</td>\n",
       "      <td>USA</td>\n",
       "      <td>triangle</td>\n",
       "      <td>3+ hours</td>\n",
       "      <td>3 triangle shape white with reddish tint hovering and moving in unison and hovering in the same spot for hours</td>\n",
       "      <td>7/29/2023</td>\n",
       "      <td>yes</td>\n",
       "      <td>https://nuforc.org/wp-content/uploads/wpforms/624-c824613929464448a7e062112379f845/IMG_9719-7cf0d35e0eede2f212f7d9a88a070cd7.jpeg</td>\n",
       "    </tr>\n",
       "    <tr>\n",
       "      <th>4</th>\n",
       "      <td>2023-07-22</td>\n",
       "      <td>July</td>\n",
       "      <td>2023</td>\n",
       "      <td>https://nuforc.org/webreports/reports/176/S176927.html</td>\n",
       "      <td>Bellefonte</td>\n",
       "      <td>PA</td>\n",
       "      <td>USA</td>\n",
       "      <td>triangle</td>\n",
       "      <td>1 to 2 minutes</td>\n",
       "      <td>Craft was low overhead, made no noise. Made almost a right angle turn, never slowing down. 3 blinking lights</td>\n",
       "      <td>7/29/2023</td>\n",
       "      <td>NaN</td>\n",
       "      <td>NaN</td>\n",
       "    </tr>\n",
       "    <tr>\n",
       "      <th>...</th>\n",
       "      <td>...</td>\n",
       "      <td>...</td>\n",
       "      <td>...</td>\n",
       "      <td>...</td>\n",
       "      <td>...</td>\n",
       "      <td>...</td>\n",
       "      <td>...</td>\n",
       "      <td>...</td>\n",
       "      <td>...</td>\n",
       "      <td>...</td>\n",
       "      <td>...</td>\n",
       "      <td>...</td>\n",
       "      <td>...</td>\n",
       "    </tr>\n",
       "    <tr>\n",
       "      <th>129288</th>\n",
       "      <td>1967-05-15</td>\n",
       "      <td>May</td>\n",
       "      <td>1967</td>\n",
       "      <td>https://nuforc.org/webreports/reports/034/S34031.html</td>\n",
       "      <td>Belvedere</td>\n",
       "      <td>CA</td>\n",
       "      <td>USA</td>\n",
       "      <td>teardrop</td>\n",
       "      <td>Approx. 10 seconds</td>\n",
       "      <td>Teardrop outlined in white light with three white circular lights inside other wise dark  interior of tear shape.</td>\n",
       "      <td>1/17/2004</td>\n",
       "      <td>NaN</td>\n",
       "      <td>NaN</td>\n",
       "    </tr>\n",
       "    <tr>\n",
       "      <th>129289</th>\n",
       "      <td>1961-06-01</td>\n",
       "      <td>June</td>\n",
       "      <td>1961</td>\n",
       "      <td>https://nuforc.org/webreports/reports/052/S52151.html</td>\n",
       "      <td>NaN</td>\n",
       "      <td>NY</td>\n",
       "      <td>USA</td>\n",
       "      <td>teardrop</td>\n",
       "      <td>30 minutes</td>\n",
       "      <td>I was 11 yrs old. My Aunt and Uncle and I were driveing from Elmira NY to Bradford PA we were in the hills coming around a bend near a</td>\n",
       "      <td>10/30/2006</td>\n",
       "      <td>NaN</td>\n",
       "      <td>NaN</td>\n",
       "    </tr>\n",
       "    <tr>\n",
       "      <th>129290</th>\n",
       "      <td>1958-07-10</td>\n",
       "      <td>July</td>\n",
       "      <td>1958</td>\n",
       "      <td>https://nuforc.org/webreports/reports/027/S27374.html</td>\n",
       "      <td>Cheektowaga</td>\n",
       "      <td>NY</td>\n",
       "      <td>USA</td>\n",
       "      <td>teardrop</td>\n",
       "      <td>10 -20 secs</td>\n",
       "      <td>White teardrop shaped object observed during the daytime</td>\n",
       "      <td>3/21/2003</td>\n",
       "      <td>NaN</td>\n",
       "      <td>NaN</td>\n",
       "    </tr>\n",
       "    <tr>\n",
       "      <th>129291</th>\n",
       "      <td>1958-06-30</td>\n",
       "      <td>June</td>\n",
       "      <td>1958</td>\n",
       "      <td>https://nuforc.org/webreports/reports/080/S80850.html</td>\n",
       "      <td>Conyers</td>\n",
       "      <td>GA</td>\n",
       "      <td>USA</td>\n",
       "      <td>teardrop</td>\n",
       "      <td>5 min.</td>\n",
       "      <td>Sighting of a UFO ca. 1958.</td>\n",
       "      <td>5/2/2011</td>\n",
       "      <td>NaN</td>\n",
       "      <td>NaN</td>\n",
       "    </tr>\n",
       "    <tr>\n",
       "      <th>129292</th>\n",
       "      <td>1957-06-30</td>\n",
       "      <td>June</td>\n",
       "      <td>1957</td>\n",
       "      <td>https://nuforc.org/webreports/reports/048/S48502.html</td>\n",
       "      <td>New York City</td>\n",
       "      <td>NY</td>\n",
       "      <td>USA</td>\n",
       "      <td>teardrop</td>\n",
       "      <td>i0min</td>\n",
       "      <td>glowing lights lead the way</td>\n",
       "      <td>2/14/2006</td>\n",
       "      <td>NaN</td>\n",
       "      <td>NaN</td>\n",
       "    </tr>\n",
       "  </tbody>\n",
       "</table>\n",
       "<p>129293 rows × 13 columns</p>\n",
       "</div>"
      ],
      "text/plain": [
       "             date month  year  \\\n",
       "0      2023-07-27  July  2023   \n",
       "1      2023-07-26  July  2023   \n",
       "2      2023-07-25  July  2023   \n",
       "3      2023-07-23  July  2023   \n",
       "4      2023-07-22  July  2023   \n",
       "...           ...   ...   ...   \n",
       "129288 1967-05-15   May  1967   \n",
       "129289 1961-06-01  June  1961   \n",
       "129290 1958-07-10  July  1958   \n",
       "129291 1958-06-30  June  1958   \n",
       "129292 1957-06-30  June  1957   \n",
       "\n",
       "                                                    reportlink           city  \\\n",
       "0       https://nuforc.org/webreports/reports/177/S177048.html     Plainfield   \n",
       "1       https://nuforc.org/webreports/reports/177/S177053.html   Little Falls   \n",
       "2       https://nuforc.org/webreports/reports/177/S177081.html     sacramento   \n",
       "3       https://nuforc.org/webreports/reports/176/S176930.html         Buford   \n",
       "4       https://nuforc.org/webreports/reports/176/S176927.html     Bellefonte   \n",
       "...                                                        ...            ...   \n",
       "129288   https://nuforc.org/webreports/reports/034/S34031.html      Belvedere   \n",
       "129289   https://nuforc.org/webreports/reports/052/S52151.html            NaN   \n",
       "129290   https://nuforc.org/webreports/reports/027/S27374.html    Cheektowaga   \n",
       "129291   https://nuforc.org/webreports/reports/080/S80850.html        Conyers   \n",
       "129292   https://nuforc.org/webreports/reports/048/S48502.html  New York City   \n",
       "\n",
       "       state country     shape            duration  \\\n",
       "0         IN     USA  triangle            1 minute   \n",
       "1         MN     USA  triangle           2 minutes   \n",
       "2         CA     USA  triangle        around 5 min   \n",
       "3         GA     USA  triangle            3+ hours   \n",
       "4         PA     USA  triangle      1 to 2 minutes   \n",
       "...      ...     ...       ...                 ...   \n",
       "129288    CA     USA  teardrop  Approx. 10 seconds   \n",
       "129289    NY     USA  teardrop          30 minutes   \n",
       "129290    NY     USA  teardrop         10 -20 secs   \n",
       "129291    GA     USA  teardrop              5 min.   \n",
       "129292    NY     USA  teardrop               i0min   \n",
       "\n",
       "                                                                                                                                   description  \\\n",
       "0                                                                                                                       2 objects above store.   \n",
       "1                                                                         Saw 2 to 4 triangle craft with bright white lights on the angle tips   \n",
       "2                                       Silent-more of a slight gush of wind/ triangular object/maybe size of jet/maybe quarter of mile high??   \n",
       "3                               3 triangle shape white with reddish tint hovering and moving in unison and hovering in the same spot for hours   \n",
       "4                                 Craft was low overhead, made no noise. Made almost a right angle turn, never slowing down. 3 blinking lights   \n",
       "...                                                                                                                                        ...   \n",
       "129288                       Teardrop outlined in white light with three white circular lights inside other wise dark  interior of tear shape.   \n",
       "129289  I was 11 yrs old. My Aunt and Uncle and I were driveing from Elmira NY to Bradford PA we were in the hills coming around a bend near a   \n",
       "129290                                                                                White teardrop shaped object observed during the daytime   \n",
       "129291                                                                                                             Sighting of a UFO ca. 1958.   \n",
       "129292                                                                                                             glowing lights lead the way   \n",
       "\n",
       "         post_date images  \\\n",
       "0        7/29/2023    NaN   \n",
       "1        7/29/2023    NaN   \n",
       "2        7/29/2023    NaN   \n",
       "3        7/29/2023    yes   \n",
       "4        7/29/2023    NaN   \n",
       "...            ...    ...   \n",
       "129288   1/17/2004    NaN   \n",
       "129289  10/30/2006    NaN   \n",
       "129290   3/21/2003    NaN   \n",
       "129291    5/2/2011    NaN   \n",
       "129292   2/14/2006    NaN   \n",
       "\n",
       "                                                                                                                              image_links  \n",
       "0                                                                                                                                     NaN  \n",
       "1                                                                                                                                     NaN  \n",
       "2                                                                                                                                     NaN  \n",
       "3       https://nuforc.org/wp-content/uploads/wpforms/624-c824613929464448a7e062112379f845/IMG_9719-7cf0d35e0eede2f212f7d9a88a070cd7.jpeg  \n",
       "4                                                                                                                                     NaN  \n",
       "...                                                                                                                                   ...  \n",
       "129288                                                                                                                                NaN  \n",
       "129289                                                                                                                                NaN  \n",
       "129290                                                                                                                                NaN  \n",
       "129291                                                                                                                                NaN  \n",
       "129292                                                                                                                                NaN  \n",
       "\n",
       "[129293 rows x 13 columns]"
      ]
     },
     "execution_count": 8,
     "metadata": {},
     "output_type": "execute_result"
    }
   ],
   "source": [
    "ufo"
   ]
  },
  {
   "cell_type": "code",
   "execution_count": null,
   "id": "840d5009",
   "metadata": {},
   "outputs": [],
   "source": []
  }
 ],
 "metadata": {
  "kernelspec": {
   "display_name": "Python 3 (ipykernel)",
   "language": "python",
   "name": "python3"
  },
  "language_info": {
   "codemirror_mode": {
    "name": "ipython",
    "version": 3
   },
   "file_extension": ".py",
   "mimetype": "text/x-python",
   "name": "python",
   "nbconvert_exporter": "python",
   "pygments_lexer": "ipython3",
   "version": "3.10.9"
  }
 },
 "nbformat": 4,
 "nbformat_minor": 5
}
