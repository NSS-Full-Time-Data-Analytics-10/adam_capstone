{
 "cells": [
  {
   "cell_type": "code",
   "execution_count": 1,
   "id": "fb8b5e58",
   "metadata": {},
   "outputs": [],
   "source": [
    "#145559 entries total\n",
    "import pandas as pd\n",
    "import requests\n",
    "from bs4 import BeautifulSoup as BS\n",
    "import numpy as np\n",
    "import re\n",
    "pd.set_option('display.max_colwidth', None)"
   ]
  },
  {
   "cell_type": "code",
   "execution_count": 2,
   "id": "303816c4",
   "metadata": {},
   "outputs": [],
   "source": [
    "# # requests.get('https://nuforc.org/webreports/ndxshape.html')\n",
    "\n",
    "# soup = BS(response.text)\n",
    "\n",
    "# print(soup)\n",
    "\n",
    "# soup.findAll('td')\n",
    "\n",
    "# totalcount = soup.findAll('td')[1::2]\n",
    "\n",
    "# totalcount = pd.DataFrame(totalcount)\n",
    "\n",
    "# totalcount.rename(columns = {0:'total'}, inplace=True)\n",
    "\n",
    "# totalcount = totalcount.total.astype(int)\n",
    "\n",
    "# totalcount.sum()"
   ]
  },
  {
   "cell_type": "markdown",
   "id": "aa5839cb",
   "metadata": {},
   "source": [
    "# report_links function"
   ]
  },
  {
   "cell_type": "code",
   "execution_count": 3,
   "id": "cbdf658b",
   "metadata": {},
   "outputs": [],
   "source": [
    "# function to add first part of link to the reports link so they will be valid\n",
    "def report_links(link):\n",
    "    link = 'https://nuforc.org/webreports/' + link\n",
    "    return link"
   ]
  },
  {
   "cell_type": "markdown",
   "id": "5e98969d",
   "metadata": {},
   "source": [
    "<div style='background: lightblue; font-size: 35px'>unspecified shape</div>"
   ]
  },
  {
   "cell_type": "raw",
   "id": "088f6454",
   "metadata": {},
   "source": [
    "unsp = 'https://nuforc.org/webreports/ndxs.html'\n",
    "unsp = requests.get(unsp)\n",
    "unsp"
   ]
  },
  {
   "cell_type": "raw",
   "id": "c3ff3a1c",
   "metadata": {},
   "source": [
    "unsp = BS(unsp.text)"
   ]
  },
  {
   "cell_type": "raw",
   "id": "c97223d7",
   "metadata": {},
   "source": [
    "# report links and date"
   ]
  },
  {
   "cell_type": "raw",
   "id": "e31ded03",
   "metadata": {},
   "source": [
    "unsp_a = unsp.findAll('a') # get <a> tags"
   ]
  },
  {
   "cell_type": "raw",
   "id": "00ea8137",
   "metadata": {},
   "source": [
    "href_values = [href.get('href') for href in unsp_a] # get text between \" \""
   ]
  },
  {
   "cell_type": "raw",
   "id": "0f7ad84d",
   "metadata": {},
   "source": [
    "date_values = [date_val.text for date_val in unsp_a] # get text between <a> tags"
   ]
  },
  {
   "cell_type": "raw",
   "id": "0de57233",
   "metadata": {},
   "source": [
    "date_values = pd.DataFrame(date_values).rename(columns = {0 : 'date'})[1::] # make date_values values dataframe"
   ]
  },
  {
   "cell_type": "raw",
   "id": "bcef3a99",
   "metadata": {},
   "source": [
    "href_values = pd.DataFrame(href_values).rename(columns = {0 : 'reportlink'})[1::] # make href_values dataframe"
   ]
  },
  {
   "cell_type": "raw",
   "id": "a97e01c5",
   "metadata": {},
   "source": [
    "unspecified = href_values.join(date_values) # join the 2 dataframes together"
   ]
  },
  {
   "cell_type": "raw",
   "id": "d5bb5c2d",
   "metadata": {},
   "source": [
    "unspecified.date = pd.to_datetime(unspecified['date'], errors = 'coerce') # change date column to dt type and ignore rows with funky formats"
   ]
  },
  {
   "cell_type": "raw",
   "id": "6d42d974",
   "metadata": {},
   "source": [
    "unspecified.reportlink = unspecified.reportlink.apply(report_links) # apply the report_links function"
   ]
  },
  {
   "cell_type": "raw",
   "id": "1191d9fb",
   "metadata": {
    "scrolled": true
   },
   "source": [
    "unspecified = unspecified.reset_index(drop = True) # reset index"
   ]
  },
  {
   "cell_type": "raw",
   "id": "445259e5",
   "metadata": {},
   "source": [
    "# city"
   ]
  },
  {
   "cell_type": "raw",
   "id": "1b050499",
   "metadata": {},
   "source": [
    "city = unsp.findAll('td')[1::9]"
   ]
  },
  {
   "cell_type": "raw",
   "id": "b314a210",
   "metadata": {},
   "source": [
    "city = [cities.text for cities in city] # loop through city and get the text"
   ]
  },
  {
   "cell_type": "raw",
   "id": "fd0de3e3",
   "metadata": {},
   "source": [
    "city = pd.DataFrame(city).rename(columns = {0 : 'city'}) # create city dataframe"
   ]
  },
  {
   "cell_type": "raw",
   "id": "efdef694",
   "metadata": {},
   "source": [
    "unspecified = unspecified.join(city) # join to unspecified dataframe\n",
    "unspecified.head(2)"
   ]
  },
  {
   "cell_type": "raw",
   "id": "305eb6e3",
   "metadata": {},
   "source": [
    "unspecified.city = unspecified.city.str.replace('?', '', regex = False)"
   ]
  },
  {
   "cell_type": "raw",
   "id": "9c482a4f",
   "metadata": {
    "scrolled": true
   },
   "source": [
    "unspecified.reset_index(drop = True)"
   ]
  },
  {
   "cell_type": "raw",
   "id": "1cba1daa",
   "metadata": {},
   "source": [
    "# state"
   ]
  },
  {
   "cell_type": "raw",
   "id": "56f2a17d",
   "metadata": {},
   "source": [
    "unsp.findAll('tr')"
   ]
  },
  {
   "cell_type": "raw",
   "id": "310b54cb",
   "metadata": {},
   "source": [
    "<span style='background:orange; font-size:28px'>easy way - unspecified shape</span>"
   ]
  },
  {
   "cell_type": "raw",
   "id": "73bf6459",
   "metadata": {},
   "source": [
    "table_data = []\n",
    "\n",
    "rows = unsp.find_all('tr') # find all tr tags\n",
    "\n",
    "# loop through td tags and get info\n",
    "for row in rows:\n",
    "    cells = row.find_all('td')\n",
    "    row_data = [cell.get_text(strip=True) for cell in cells]\n",
    "    table_data.append(row_data)"
   ]
  },
  {
   "cell_type": "raw",
   "id": "038ccfb5",
   "metadata": {},
   "source": [
    "unspecified_shape = pd.DataFrame(table_data)"
   ]
  },
  {
   "cell_type": "raw",
   "id": "b77c2508",
   "metadata": {},
   "source": [
    "unspecified_shape = unspecified_shape.drop(0)"
   ]
  },
  {
   "cell_type": "raw",
   "id": "52d84639",
   "metadata": {},
   "source": [
    "unspecified_shape = unspecified_shape.reset_index(drop=True)"
   ]
  },
  {
   "cell_type": "raw",
   "id": "ae104306",
   "metadata": {},
   "source": [
    "unspecified_shape = unspecified_shape.rename(columns = {0: 'date', 1: 'city', 2: 'state', 3: 'country', 4: 'shape', 5: 'duration',\n",
    "                                   6: 'description', 7: 'post_date', 8: 'images'})"
   ]
  },
  {
   "cell_type": "raw",
   "id": "581bfb3a",
   "metadata": {},
   "source": [
    "unspecified_shape['reportlinks'] = unspecified.reportlink"
   ]
  },
  {
   "cell_type": "markdown",
   "id": "9f2a600b",
   "metadata": {},
   "source": [
    "# get images"
   ]
  },
  {
   "cell_type": "code",
   "execution_count": 36,
   "id": "f38c60d5",
   "metadata": {},
   "outputs": [],
   "source": [
    "testurl3 = list(unspecified_shape.reportlinks)\n"
   ]
  },
  {
   "cell_type": "code",
   "execution_count": null,
   "id": "2bfd9dda",
   "metadata": {},
   "outputs": [],
   "source": [
    "testurl3 = list(unspecified_shape.reportlinks)\n",
    "testurl3 = requests.get(testurl3)\n",
    "testurl3 = BS(testurl3.text)"
   ]
  },
  {
   "cell_type": "code",
   "execution_count": null,
   "id": "ca094901",
   "metadata": {},
   "outputs": [],
   "source": [
    "tlist = []\n",
    "srclist = []\n",
    "for x in testurl3:\n",
    "    response = requests.get(x)\n",
    "    soup = BS(response.text)\n",
    "    text = soup.findAll('td')[1].text\n",
    "    imgs = soup.findAll('img')\n",
    "    src = [img['src'] for img in imgs]\n",
    "    tlist.append(text)\n",
    "    srclist.append(src)\n",
    "tlist"
   ]
  },
  {
   "cell_type": "markdown",
   "id": "2d78164e",
   "metadata": {},
   "source": [
    "<span style='background:orange; font-size:28px'>easier way -shape data</span>"
   ]
  },
  {
   "cell_type": "code",
   "execution_count": 188,
   "id": "5de51128",
   "metadata": {},
   "outputs": [],
   "source": [
    "# links\n",
    "# 'https://nuforc.org/webreports/ndxs.html'\n",
    "# 'https://nuforc.org/webreports/ndxsChanging.html'\n",
    "# 'https://nuforc.org/webreports/ndxsChevron.html'\n",
    "# 'https://nuforc.org/webreports/ndxsCigar.html'\n",
    "# 'https://nuforc.org/webreports/ndxsCircle.html'\n",
    "# 'https://nuforc.org/webreports/ndxsCone.html'\n",
    "# 'https://nuforc.org/webreports/ndxsCross.html'\n",
    "# 'https://nuforc.org/webreports/ndxsCube.html'\n",
    "# 'https://nuforc.org/webreports/ndxsCylinder.html'\n",
    "# 'https://nuforc.org/webreports/ndxsDelta.html'\n",
    "# 'https://nuforc.org/webreports/ndxsDiamond.html'\n",
    "# 'https://nuforc.org/webreports/ndxsDisk.html' # why the fuck does this one take up so much space????\n",
    "# 'https://nuforc.org/webreports/ndxsEgg.html'\n",
    "# 'https://nuforc.org/webreports/ndxsFireball.html'\n",
    "# 'https://nuforc.org/webreports/ndxsFlash.html'\n",
    "# 'https://nuforc.org/webreports/ndxsFormation.html'\n",
    "# 'https://nuforc.org/webreports/ndxsLight.html'\n",
    "# 'https://nuforc.org/webreports/ndxsOrb.html'\n",
    "# 'https://nuforc.org/webreports/ndxsOther.html'\n",
    "# 'https://nuforc.org/webreports/ndxsOval.html'\n",
    "# 'https://nuforc.org/webreports/ndxsRectangle.html'\n",
    "# 'https://nuforc.org/webreports/ndxsSphere.html'\n",
    "# 'https://nuforc.org/webreports/ndxsStar.html'\n",
    "# 'https://nuforc.org/webreports/ndxsTeardrop.html'\n",
    "# 'https://nuforc.org/webreports/ndxsTriangle.html'\n",
    "'https://nuforc.org/webreports/ndxsUnknown.html'"
   ]
  },
  {
   "cell_type": "code",
   "execution_count": 578,
   "id": "db4bde9f",
   "metadata": {},
   "outputs": [
    {
     "data": {
      "text/plain": [
       "<Response [200]>"
      ]
     },
     "execution_count": 578,
     "metadata": {},
     "output_type": "execute_result"
    }
   ],
   "source": [
    "link = 'https://nuforc.org/webreports/ndxsUnknown.html'\n",
    "\n",
    "\n",
    "link = requests.get(link)\n",
    "link"
   ]
  },
  {
   "cell_type": "code",
   "execution_count": 579,
   "id": "46350ce6",
   "metadata": {},
   "outputs": [],
   "source": [
    "link = BS(link.text)"
   ]
  },
  {
   "cell_type": "code",
   "execution_count": 580,
   "id": "4b99ee84",
   "metadata": {},
   "outputs": [],
   "source": [
    "table_data = []\n",
    "rows = link.findAll('tr') # find all the row tags\n",
    "\n",
    "#loop through the td tags\n",
    "for row in rows:\n",
    "    entries = row.findAll('td')\n",
    "    row_data = []\n",
    "    \n",
    "    for entry in entries:\n",
    "        a_tag = entry.find('a')\n",
    "        if a_tag:\n",
    "            entry_text = a_tag.get_text(strip = True) # remove white spaces and get data between a tags\n",
    "            entry_href = a_tag['href'] # get href link inside a tag\n",
    "            row_data.append(entry_text)\n",
    "            row_data.append(entry_href)\n",
    "        else:\n",
    "            row_data.append(entry.get_text(strip = True))\n",
    "    table_data.append(row_data)"
   ]
  },
  {
   "cell_type": "code",
   "execution_count": 581,
   "id": "3a2971e6",
   "metadata": {},
   "outputs": [],
   "source": [
    "shape = pd.DataFrame(table_data)"
   ]
  },
  {
   "cell_type": "code",
   "execution_count": 582,
   "id": "a26b33ba",
   "metadata": {
    "scrolled": true
   },
   "outputs": [
    {
     "data": {
      "text/html": [
       "<div>\n",
       "<style scoped>\n",
       "    .dataframe tbody tr th:only-of-type {\n",
       "        vertical-align: middle;\n",
       "    }\n",
       "\n",
       "    .dataframe tbody tr th {\n",
       "        vertical-align: top;\n",
       "    }\n",
       "\n",
       "    .dataframe thead th {\n",
       "        text-align: right;\n",
       "    }\n",
       "</style>\n",
       "<table border=\"1\" class=\"dataframe\">\n",
       "  <thead>\n",
       "    <tr style=\"text-align: right;\">\n",
       "      <th></th>\n",
       "      <th>date</th>\n",
       "      <th>reportlink</th>\n",
       "      <th>city</th>\n",
       "      <th>state</th>\n",
       "      <th>country</th>\n",
       "      <th>shape</th>\n",
       "      <th>duration</th>\n",
       "      <th>description</th>\n",
       "      <th>post_date</th>\n",
       "      <th>images</th>\n",
       "    </tr>\n",
       "  </thead>\n",
       "  <tbody>\n",
       "    <tr>\n",
       "      <th>0</th>\n",
       "      <td>None</td>\n",
       "      <td>None</td>\n",
       "      <td>None</td>\n",
       "      <td>None</td>\n",
       "      <td>None</td>\n",
       "      <td>None</td>\n",
       "      <td>None</td>\n",
       "      <td>None</td>\n",
       "      <td>None</td>\n",
       "      <td>None</td>\n",
       "    </tr>\n",
       "    <tr>\n",
       "      <th>1</th>\n",
       "      <td>7/29/23 11:20</td>\n",
       "      <td>reports/177/S177111.html</td>\n",
       "      <td>Riverview</td>\n",
       "      <td>FL</td>\n",
       "      <td>USA</td>\n",
       "      <td>Unknown</td>\n",
       "      <td>11:21</td>\n",
       "      <td>.001/ 9 screen shot clip of fly by</td>\n",
       "      <td>7/29/23</td>\n",
       "      <td>Yes</td>\n",
       "    </tr>\n",
       "  </tbody>\n",
       "</table>\n",
       "</div>"
      ],
      "text/plain": [
       "            date                reportlink       city state country    shape  \\\n",
       "0           None                      None       None  None    None     None   \n",
       "1  7/29/23 11:20  reports/177/S177111.html  Riverview    FL     USA  Unknown   \n",
       "\n",
       "  duration                         description post_date images  \n",
       "0     None                                None      None   None  \n",
       "1    11:21  .001/ 9 screen shot clip of fly by   7/29/23    Yes  "
      ]
     },
     "execution_count": 582,
     "metadata": {},
     "output_type": "execute_result"
    }
   ],
   "source": [
    "shape = shape.rename(columns = {0: 'date', 1: 'reportlink', 2: 'city', 3: 'state', 4: 'country', 5: 'shape', 6: 'duration',\n",
    "                                   7: 'description', 8: 'post_date', 9: 'images'})\n",
    "shape.head(2)"
   ]
  },
  {
   "cell_type": "code",
   "execution_count": 583,
   "id": "b208f560",
   "metadata": {},
   "outputs": [
    {
     "data": {
      "text/html": [
       "<div>\n",
       "<style scoped>\n",
       "    .dataframe tbody tr th:only-of-type {\n",
       "        vertical-align: middle;\n",
       "    }\n",
       "\n",
       "    .dataframe tbody tr th {\n",
       "        vertical-align: top;\n",
       "    }\n",
       "\n",
       "    .dataframe thead th {\n",
       "        text-align: right;\n",
       "    }\n",
       "</style>\n",
       "<table border=\"1\" class=\"dataframe\">\n",
       "  <thead>\n",
       "    <tr style=\"text-align: right;\">\n",
       "      <th></th>\n",
       "      <th>date</th>\n",
       "      <th>reportlink</th>\n",
       "      <th>city</th>\n",
       "      <th>state</th>\n",
       "      <th>country</th>\n",
       "      <th>shape</th>\n",
       "      <th>duration</th>\n",
       "      <th>description</th>\n",
       "      <th>post_date</th>\n",
       "      <th>images</th>\n",
       "    </tr>\n",
       "  </thead>\n",
       "  <tbody>\n",
       "    <tr>\n",
       "      <th>1</th>\n",
       "      <td>7/29/23 11:20</td>\n",
       "      <td>reports/177/S177111.html</td>\n",
       "      <td>Riverview</td>\n",
       "      <td>FL</td>\n",
       "      <td>USA</td>\n",
       "      <td>Unknown</td>\n",
       "      <td>11:21</td>\n",
       "      <td>.001/ 9 screen shot clip of fly by</td>\n",
       "      <td>7/29/23</td>\n",
       "      <td>Yes</td>\n",
       "    </tr>\n",
       "    <tr>\n",
       "      <th>2</th>\n",
       "      <td>7/19/23 22:15</td>\n",
       "      <td>reports/177/S177061.html</td>\n",
       "      <td>Mancos</td>\n",
       "      <td>CO</td>\n",
       "      <td>USA</td>\n",
       "      <td>Unknown</td>\n",
       "      <td>5 minutes</td>\n",
       "      <td>Object in sky moving slowly from north to south with wide beam of light trailing it.</td>\n",
       "      <td>7/29/23</td>\n",
       "      <td>Yes</td>\n",
       "    </tr>\n",
       "  </tbody>\n",
       "</table>\n",
       "</div>"
      ],
      "text/plain": [
       "            date                reportlink       city state country    shape  \\\n",
       "1  7/29/23 11:20  reports/177/S177111.html  Riverview    FL     USA  Unknown   \n",
       "2  7/19/23 22:15  reports/177/S177061.html     Mancos    CO     USA  Unknown   \n",
       "\n",
       "    duration  \\\n",
       "1      11:21   \n",
       "2  5 minutes   \n",
       "\n",
       "                                                                            description  \\\n",
       "1                                                    .001/ 9 screen shot clip of fly by   \n",
       "2  Object in sky moving slowly from north to south with wide beam of light trailing it.   \n",
       "\n",
       "  post_date images  \n",
       "1   7/29/23    Yes  \n",
       "2   7/29/23    Yes  "
      ]
     },
     "execution_count": 583,
     "metadata": {},
     "output_type": "execute_result"
    }
   ],
   "source": [
    "shape = shape.drop(0)\n",
    "shape.head(2)"
   ]
  },
  {
   "cell_type": "code",
   "execution_count": 584,
   "id": "44b7ba32",
   "metadata": {},
   "outputs": [
    {
     "data": {
      "text/plain": [
       "9860"
      ]
     },
     "execution_count": 584,
     "metadata": {},
     "output_type": "execute_result"
    }
   ],
   "source": [
    "len(shape)"
   ]
  },
  {
   "cell_type": "code",
   "execution_count": 585,
   "id": "bca5990a",
   "metadata": {
    "scrolled": true
   },
   "outputs": [
    {
     "data": {
      "text/html": [
       "<div>\n",
       "<style scoped>\n",
       "    .dataframe tbody tr th:only-of-type {\n",
       "        vertical-align: middle;\n",
       "    }\n",
       "\n",
       "    .dataframe tbody tr th {\n",
       "        vertical-align: top;\n",
       "    }\n",
       "\n",
       "    .dataframe thead th {\n",
       "        text-align: right;\n",
       "    }\n",
       "</style>\n",
       "<table border=\"1\" class=\"dataframe\">\n",
       "  <thead>\n",
       "    <tr style=\"text-align: right;\">\n",
       "      <th></th>\n",
       "      <th>date</th>\n",
       "      <th>reportlink</th>\n",
       "      <th>city</th>\n",
       "      <th>state</th>\n",
       "      <th>country</th>\n",
       "      <th>shape</th>\n",
       "      <th>duration</th>\n",
       "      <th>description</th>\n",
       "      <th>post_date</th>\n",
       "      <th>images</th>\n",
       "    </tr>\n",
       "  </thead>\n",
       "  <tbody>\n",
       "    <tr>\n",
       "      <th>1</th>\n",
       "      <td>7/29/23 11:20</td>\n",
       "      <td>https://nuforc.org/webreports/reports/177/S177111.html</td>\n",
       "      <td>Riverview</td>\n",
       "      <td>FL</td>\n",
       "      <td>USA</td>\n",
       "      <td>Unknown</td>\n",
       "      <td>11:21</td>\n",
       "      <td>.001/ 9 screen shot clip of fly by</td>\n",
       "      <td>7/29/23</td>\n",
       "      <td>Yes</td>\n",
       "    </tr>\n",
       "    <tr>\n",
       "      <th>2</th>\n",
       "      <td>7/19/23 22:15</td>\n",
       "      <td>https://nuforc.org/webreports/reports/177/S177061.html</td>\n",
       "      <td>Mancos</td>\n",
       "      <td>CO</td>\n",
       "      <td>USA</td>\n",
       "      <td>Unknown</td>\n",
       "      <td>5 minutes</td>\n",
       "      <td>Object in sky moving slowly from north to south with wide beam of light trailing it.</td>\n",
       "      <td>7/29/23</td>\n",
       "      <td>Yes</td>\n",
       "    </tr>\n",
       "  </tbody>\n",
       "</table>\n",
       "</div>"
      ],
      "text/plain": [
       "            date                                              reportlink  \\\n",
       "1  7/29/23 11:20  https://nuforc.org/webreports/reports/177/S177111.html   \n",
       "2  7/19/23 22:15  https://nuforc.org/webreports/reports/177/S177061.html   \n",
       "\n",
       "        city state country    shape   duration  \\\n",
       "1  Riverview    FL     USA  Unknown      11:21   \n",
       "2     Mancos    CO     USA  Unknown  5 minutes   \n",
       "\n",
       "                                                                            description  \\\n",
       "1                                                    .001/ 9 screen shot clip of fly by   \n",
       "2  Object in sky moving slowly from north to south with wide beam of light trailing it.   \n",
       "\n",
       "  post_date images  \n",
       "1   7/29/23    Yes  \n",
       "2   7/29/23    Yes  "
      ]
     },
     "execution_count": 585,
     "metadata": {},
     "output_type": "execute_result"
    }
   ],
   "source": [
    "shape.reportlink = shape.reportlink.apply(report_links)\n",
    "shape.head(2)"
   ]
  },
  {
   "cell_type": "code",
   "execution_count": 505,
   "id": "e26d3d92",
   "metadata": {},
   "outputs": [],
   "source": [
    "# shape = shape[['date', 'reportlink', 'city', 'state', 'country', 'shape', 'duration', 'description', 'post_date', 'images']]"
   ]
  },
  {
   "cell_type": "code",
   "execution_count": 586,
   "id": "10a9764b",
   "metadata": {
    "scrolled": true
   },
   "outputs": [],
   "source": [
    "shape.to_csv('unknown_shape.csv', index = False)"
   ]
  },
  {
   "cell_type": "markdown",
   "id": "527ead0d",
   "metadata": {},
   "source": [
    "<span style='background:yellow; font-size:20px'>scratch pad</span>"
   ]
  },
  {
   "cell_type": "code",
   "execution_count": 129,
   "id": "14ce8169",
   "metadata": {
    "scrolled": true
   },
   "outputs": [],
   "source": [
    "link = 'https://nuforc.org/webreports/ndxloc.html'\n",
    "link = requests.get(link)\n",
    "link = BS(link.text)"
   ]
  },
  {
   "cell_type": "code",
   "execution_count": 145,
   "id": "935b33a4",
   "metadata": {},
   "outputs": [],
   "source": [
    "count_list = list(link.findAll('td')[1::2])"
   ]
  },
  {
   "cell_type": "code",
   "execution_count": 148,
   "id": "c233cb29",
   "metadata": {},
   "outputs": [],
   "source": [
    "count_list = pd.DataFrame(count_list)"
   ]
  },
  {
   "cell_type": "code",
   "execution_count": 149,
   "id": "fef840ee",
   "metadata": {},
   "outputs": [
    {
     "data": {
      "text/plain": [
       "0    136463348651261159013173198240914880902663663132842062666120211621661110711631786264235842077769276298468816601176283316375771359227243711456349649165922202384226060111482601264370768912403408112736791178240203474720218245524102408\n",
       "dtype: object"
      ]
     },
     "execution_count": 149,
     "metadata": {},
     "output_type": "execute_result"
    }
   ],
   "source": [
    "count_list.sum()"
   ]
  },
  {
   "cell_type": "code",
   "execution_count": 156,
   "id": "3fe132df",
   "metadata": {},
   "outputs": [],
   "source": [
    "count_list = count_list.rename(columns = {'count': 'counting'})"
   ]
  },
  {
   "cell_type": "code",
   "execution_count": 157,
   "id": "48386c28",
   "metadata": {},
   "outputs": [],
   "source": [
    "count_list.counting = count_list.counting.astype(int)"
   ]
  },
  {
   "cell_type": "code",
   "execution_count": 161,
   "id": "c5829c19",
   "metadata": {},
   "outputs": [
    {
     "data": {
      "text/plain": [
       "counting    145606\n",
       "dtype: int64"
      ]
     },
     "execution_count": 161,
     "metadata": {},
     "output_type": "execute_result"
    }
   ],
   "source": [
    "count_list.sum()"
   ]
  },
  {
   "cell_type": "code",
   "execution_count": 162,
   "id": "0ffe396a",
   "metadata": {},
   "outputs": [
    {
     "data": {
      "text/html": [
       "<div>\n",
       "<style scoped>\n",
       "    .dataframe tbody tr th:only-of-type {\n",
       "        vertical-align: middle;\n",
       "    }\n",
       "\n",
       "    .dataframe tbody tr th {\n",
       "        vertical-align: top;\n",
       "    }\n",
       "\n",
       "    .dataframe thead th {\n",
       "        text-align: right;\n",
       "    }\n",
       "</style>\n",
       "<table border=\"1\" class=\"dataframe\">\n",
       "  <thead>\n",
       "    <tr style=\"text-align: right;\">\n",
       "      <th></th>\n",
       "      <th>counting</th>\n",
       "    </tr>\n",
       "  </thead>\n",
       "  <tbody>\n",
       "    <tr>\n",
       "      <th>0</th>\n",
       "      <td>1364</td>\n",
       "    </tr>\n",
       "    <tr>\n",
       "      <th>1</th>\n",
       "      <td>633</td>\n",
       "    </tr>\n",
       "    <tr>\n",
       "      <th>2</th>\n",
       "      <td>4865</td>\n",
       "    </tr>\n",
       "    <tr>\n",
       "      <th>3</th>\n",
       "      <td>1261</td>\n",
       "    </tr>\n",
       "    <tr>\n",
       "      <th>4</th>\n",
       "      <td>15901</td>\n",
       "    </tr>\n",
       "    <tr>\n",
       "      <th>...</th>\n",
       "      <td>...</td>\n",
       "    </tr>\n",
       "    <tr>\n",
       "      <th>60</th>\n",
       "      <td>2455</td>\n",
       "    </tr>\n",
       "    <tr>\n",
       "      <th>61</th>\n",
       "      <td>24</td>\n",
       "    </tr>\n",
       "    <tr>\n",
       "      <th>62</th>\n",
       "      <td>102</td>\n",
       "    </tr>\n",
       "    <tr>\n",
       "      <th>63</th>\n",
       "      <td>40</td>\n",
       "    </tr>\n",
       "    <tr>\n",
       "      <th>64</th>\n",
       "      <td>8</td>\n",
       "    </tr>\n",
       "  </tbody>\n",
       "</table>\n",
       "<p>65 rows × 1 columns</p>\n",
       "</div>"
      ],
      "text/plain": [
       "    counting\n",
       "0       1364\n",
       "1        633\n",
       "2       4865\n",
       "3       1261\n",
       "4      15901\n",
       "..       ...\n",
       "60      2455\n",
       "61        24\n",
       "62       102\n",
       "63        40\n",
       "64         8\n",
       "\n",
       "[65 rows x 1 columns]"
      ]
     },
     "execution_count": 162,
     "metadata": {},
     "output_type": "execute_result"
    }
   ],
   "source": [
    "count_list"
   ]
  },
  {
   "cell_type": "code",
   "execution_count": 1,
   "id": "5a2ba5fe",
   "metadata": {},
   "outputs": [],
   "source": [
    "url = 'https://nuforc.org/webreports/reports/171/S171478.html'\n",
    "\n",
    "    \n",
    "    \n",
    "\n",
    "def get_images_from_webpage(url):\n",
    "    response = requests.get(url)\n",
    "    images = []\n",
    "    soup = BeautifulSoup(response.text, 'html.parser')\n",
    "    img_tags = soup.find_all('img')\n",
    "\n",
    "    for img_tag in img_tags:\n",
    "        img_url = img_tag.get('src')\n",
    "        if img_url.startswith('//'):\n",
    "            img_url = 'http:' + img_url\n",
    "        elif img_url.startswith('/'):\n",
    "            img_url = '/'.join(url.split('/')[:3]) + img_url\n",
    "\n",
    "        images.append(img_url)\n",
    "\n",
    "    return images"
   ]
  },
  {
   "cell_type": "code",
   "execution_count": 2,
   "id": "a2aae602",
   "metadata": {},
   "outputs": [
    {
     "ename": "NameError",
     "evalue": "name 'images' is not defined",
     "output_type": "error",
     "traceback": [
      "\u001b[1;31m---------------------------------------------------------------------------\u001b[0m",
      "\u001b[1;31mNameError\u001b[0m                                 Traceback (most recent call last)",
      "Cell \u001b[1;32mIn[2], line 1\u001b[0m\n\u001b[1;32m----> 1\u001b[0m \u001b[43mimages\u001b[49m\n",
      "\u001b[1;31mNameError\u001b[0m: name 'images' is not defined"
     ]
    }
   ],
   "source": []
  },
  {
   "cell_type": "code",
   "execution_count": null,
   "id": "b02f0283",
   "metadata": {},
   "outputs": [],
   "source": []
  }
 ],
 "metadata": {
  "kernelspec": {
   "display_name": "Python 3 (ipykernel)",
   "language": "python",
   "name": "python3"
  },
  "language_info": {
   "codemirror_mode": {
    "name": "ipython",
    "version": 3
   },
   "file_extension": ".py",
   "mimetype": "text/x-python",
   "name": "python",
   "nbconvert_exporter": "python",
   "pygments_lexer": "ipython3",
   "version": "3.10.9"
  }
 },
 "nbformat": 4,
 "nbformat_minor": 5
}
